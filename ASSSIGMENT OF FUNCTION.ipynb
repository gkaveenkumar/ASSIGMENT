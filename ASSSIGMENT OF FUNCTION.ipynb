{
 "cells": [
  {
   "cell_type": "code",
   "execution_count": 30,
   "id": "f364f835-b0b2-48b1-826a-a23a8fdb1b09",
   "metadata": {},
   "outputs": [],
   "source": [
    "def Subfields():\n",
    "    A=(\"Sub-fields in AI are:\",\n",
    "\"Machine Learning\",\n",
    "\"Neural Networks\",\n",
    "\"Vision\",\n",
    "\"Robotics.\",\n",
    "\"Speech Processing\",\n",
    "\"Natural Language Processing\")\n",
    "    print(\"\\n\".join(A))"
   ]
  },
  {
   "cell_type": "code",
   "execution_count": 32,
   "id": "891bced2-2c48-456c-a9ae-6605eadbea24",
   "metadata": {},
   "outputs": [
    {
     "name": "stdout",
     "output_type": "stream",
     "text": [
      "Sub-fields in AI are:\n",
      "Machine Learning\n",
      "Neural Networks\n",
      "Vision\n",
      "Robotics.\n",
      "Speech Processing\n",
      "Natural Language Processing\n"
     ]
    }
   ],
   "source": [
    "Subfields()\n"
   ]
  },
  {
   "cell_type": "code",
   "execution_count": 102,
   "id": "8108e163-d918-47d5-aaf5-3e1e5a433337",
   "metadata": {},
   "outputs": [],
   "source": [
    "def OddEven():\n",
    "    NUM=int(input(\"Enter a number:\"))\n",
    "    print(\"Enter a number:\",NUM)\n",
    "    if (NUM%2==0):\n",
    "        print(NUM,\"is Even number\")\n",
    "    else:\n",
    "        print(NUM, \"is Odd number\")\n"
   ]
  },
  {
   "cell_type": "code",
   "execution_count": 104,
   "id": "d02eba15-658a-40bd-b049-55df66393e88",
   "metadata": {},
   "outputs": [
    {
     "name": "stdin",
     "output_type": "stream",
     "text": [
      "Enter a number: 52452\n"
     ]
    },
    {
     "name": "stdout",
     "output_type": "stream",
     "text": [
      "Enter a number: 52452\n",
      "52452 is Even number\n"
     ]
    }
   ],
   "source": [
    "OddEven()"
   ]
  },
  {
   "cell_type": "code",
   "execution_count": 106,
   "id": "23c9534b-ab8c-4ce4-b700-ceb85ce8d712",
   "metadata": {},
   "outputs": [],
   "source": [
    "def Elegible():\n",
    "    Gender=(input(\"Your Gender:\"))\n",
    "    print(\"Your Gender:\",Gender)\n",
    "    Age=int(input(\"Your Age\"))\n",
    "    print(\"Your Age\",Age)\n",
    "    if(Gender==\"male\" and Age>=21):\n",
    "            print(\"ELIGIBLE\")\n",
    "    elif(Gender==\"female\"and Age>=18):\n",
    "        print(\"ELIGIBLE\")\n",
    "    else:\n",
    "        print(\"NOT ELIGIBLIE\")\n",
    "\n",
    "\n",
    "    \n",
    "    "
   ]
  },
  {
   "cell_type": "code",
   "execution_count": 108,
   "id": "c89b6de6-e5b6-4d52-bcbf-33cb1b114a0a",
   "metadata": {},
   "outputs": [
    {
     "name": "stdin",
     "output_type": "stream",
     "text": [
      "Your Gender: male\n"
     ]
    },
    {
     "name": "stdout",
     "output_type": "stream",
     "text": [
      "Your Gender: male\n"
     ]
    },
    {
     "name": "stdin",
     "output_type": "stream",
     "text": [
      "Your Age 20\n"
     ]
    },
    {
     "name": "stdout",
     "output_type": "stream",
     "text": [
      "Your Age 20\n",
      "NOT ELIGIBLIE\n"
     ]
    }
   ],
   "source": [
    "Elegible()\n"
   ]
  },
  {
   "cell_type": "code",
   "execution_count": null,
   "id": "96feb704-b20e-43c0-9d06-cedd032b17d8",
   "metadata": {},
   "outputs": [],
   "source": [
    "def Percentage():\n",
    "    Subject1=int(input(\"Subject1\"))\n",
    "    print(\"Subject1\",Subject1)\n",
    "    Subject2=int(input(\"Subject2\"))\n",
    "    print(\"Subject2\",Subject2)\n",
    "    Subject3=int(input(\"Subject3\"))\n",
    "    print(\"Subject3\",Subject3)\n",
    "    Subject4=int(input(\"Subject4\"))\n",
    "    print(\"Subject4\",Subject4)\n",
    "    Subject5=int(input(\"Subject5\"))\n",
    "    print(\"Subject5\",Subject5)\n",
    "    TOtal=(Subject1+Subject2+Subject3+Subject4+Subject5)\n",
    "    print(\"Total:\",TOtal)\n",
    "    percentage=TOtal/5\n",
    "    print(\"percentage:\",percentage)\n",
    "    \n",
    "              \n",
    "                        \n",
    "                        \n",
    "    \n",
    "             "
   ]
  },
  {
   "cell_type": "code",
   "execution_count": null,
   "id": "9387eb36-2aa7-4d51-b30d-2727450d1f27",
   "metadata": {},
   "outputs": [],
   "source": []
  },
  {
   "cell_type": "code",
   "execution_count": null,
   "id": "6f904460-fe29-49ee-8d32-25a69376371f",
   "metadata": {},
   "outputs": [],
   "source": []
  }
 ],
 "metadata": {
  "kernelspec": {
   "display_name": "Python 3 (ipykernel)",
   "language": "python",
   "name": "python3"
  },
  "language_info": {
   "codemirror_mode": {
    "name": "ipython",
    "version": 3
   },
   "file_extension": ".py",
   "mimetype": "text/x-python",
   "name": "python",
   "nbconvert_exporter": "python",
   "pygments_lexer": "ipython3",
   "version": "3.12.4"
  }
 },
 "nbformat": 4,
 "nbformat_minor": 5
}
