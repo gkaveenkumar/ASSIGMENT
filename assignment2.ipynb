{
 "cells": [
  {
   "cell_type": "code",
   "execution_count": 15,
   "id": "d0d73cd9-98a5-4bb2-8c68-44a149d752b0",
   "metadata": {},
   "outputs": [],
   "source": [
    "def Subfields():\n",
    "    A=(\"Sub-fields in AI are:\",\n",
    "\"Machine Learning\",\n",
    "\"Neural Networks\",\n",
    "\"Vision\",\n",
    "\"Robotics.\",\n",
    "\"Speech Processing\",\n",
    "\"Natural Language Processing\")\n",
    "    print(\"\\n\".join(A))"
   ]
  },
  {
   "cell_type": "code",
   "execution_count": 17,
   "id": "1f662d86-e16b-4401-a6de-00c9dd2d47dc",
   "metadata": {},
   "outputs": [
    {
     "name": "stdout",
     "output_type": "stream",
     "text": [
      "Sub-fields in AI are:\n",
      "Machine Learning\n",
      "Neural Networks\n",
      "Vision\n",
      "Robotics.\n",
      "Speech Processing\n",
      "Natural Language Processing\n"
     ]
    }
   ],
   "source": [
    "Subfields()\n"
   ]
  },
  {
   "cell_type": "code",
   "execution_count": 19,
   "id": "1633747e-9d8d-447e-a1b8-ea47185f7814",
   "metadata": {},
   "outputs": [],
   "source": [
    "def Elegible():\n",
    "    Gender=(input(\"Your Gender:\"))\n",
    "    print(\"Your Gender:\",Gender)\n",
    "    Age=int(input(\"Your Age\"))\n",
    "    print(\"Your Age\",Age)\n",
    "    if(Gender==\"male\" and Age>=21):\n",
    "            print(\"ELIGIBLE\")\n",
    "    elif(Gender==\"female\"and Age>=18):\n",
    "        print(\"ELIGIBLE\")\n",
    "    else:\n",
    "        print(\"NOT ELIGIBLIE\")\n",
    "\n"
   ]
  },
  {
   "cell_type": "code",
   "execution_count": 21,
   "id": "a03b29fd-2e05-4d13-9059-b4ee12e2a922",
   "metadata": {},
   "outputs": [
    {
     "name": "stdin",
     "output_type": "stream",
     "text": [
      "Your Gender: male\n"
     ]
    },
    {
     "name": "stdout",
     "output_type": "stream",
     "text": [
      "Your Gender: male\n"
     ]
    },
    {
     "name": "stdin",
     "output_type": "stream",
     "text": [
      "Your Age 20\n"
     ]
    },
    {
     "name": "stdout",
     "output_type": "stream",
     "text": [
      "Your Age 20\n",
      "NOT ELIGIBLIE\n"
     ]
    }
   ],
   "source": [
    "Elegible()\n"
   ]
  },
  {
   "cell_type": "code",
   "execution_count": 23,
   "id": "92589cb5-5517-4fc6-80aa-b9a2032c9b11",
   "metadata": {},
   "outputs": [],
   "source": [
    "def Percentage():\n",
    "    Subject1=int(input(\"Subject1\"))\n",
    "    print(\"Subject1\",Subject1)\n",
    "    Subject2=int(input(\"Subject2\"))\n",
    "    print(\"Subject2\",Subject2)\n",
    "    Subject3=int(input(\"Subject3\"))\n",
    "    print(\"Subject3\",Subject3)\n",
    "    Subject4=int(input(\"Subject4\"))\n",
    "    print(\"Subject4\",Subject4)\n",
    "    Subject5=int(input(\"Subject5\"))\n",
    "    print(\"Subject5\",Subject5)\n",
    "    TOtal=(Subject1+Subject2+Subject3+Subject4+Subject5)\n",
    "    print(\"Total:\",TOtal)\n",
    "    percentage=TOtal/5\n",
    "    print(\"percentage:\",percentage)\n",
    "\n"
   ]
  },
  {
   "cell_type": "code",
   "execution_count": 25,
   "id": "bb463378-c56d-4eb3-90b4-06365b0c8134",
   "metadata": {},
   "outputs": [
    {
     "name": "stdin",
     "output_type": "stream",
     "text": [
      "Subject1 98\n"
     ]
    },
    {
     "name": "stdout",
     "output_type": "stream",
     "text": [
      "Subject1 98\n"
     ]
    },
    {
     "name": "stdin",
     "output_type": "stream",
     "text": [
      "Subject2 87\n"
     ]
    },
    {
     "name": "stdout",
     "output_type": "stream",
     "text": [
      "Subject2 87\n"
     ]
    },
    {
     "name": "stdin",
     "output_type": "stream",
     "text": [
      "Subject3 95\n"
     ]
    },
    {
     "name": "stdout",
     "output_type": "stream",
     "text": [
      "Subject3 95\n"
     ]
    },
    {
     "name": "stdin",
     "output_type": "stream",
     "text": [
      "Subject4 95\n"
     ]
    },
    {
     "name": "stdout",
     "output_type": "stream",
     "text": [
      "Subject4 95\n"
     ]
    },
    {
     "name": "stdin",
     "output_type": "stream",
     "text": [
      "Subject5 93\n"
     ]
    },
    {
     "name": "stdout",
     "output_type": "stream",
     "text": [
      "Subject5 93\n",
      "Total: 468\n",
      "percentage: 93.6\n"
     ]
    }
   ],
   "source": [
    "Percentage()"
   ]
  },
  {
   "cell_type": "code",
   "execution_count": 37,
   "id": "45e218ca-1e52-4b64-a285-67ef5c3538fa",
   "metadata": {},
   "outputs": [],
   "source": [
    "def Triangle():\n",
    "    Height = int(input(\"Height:\"))\n",
    "    print(\"Height:\", Height)\n",
    "    Breadth = int(input(\"Breadth:\"))\n",
    "    print(\"Breadth:\", Breadth)\n",
    "    print(\"Area formula: (Height * Breadth) / 2\")\n",
    "    AreaOfTriangle = (Height * Breadth) / 2\n",
    "    print(\"Area of Triangle:\", AreaOfTriangle)\n",
    "    Height1 = int(input(\"Height1:\"))\n",
    "    print(\"Height1:\", Height1)\n",
    "    Height2 = int(input(\"Height2:\"))\n",
    "    print(\"Height2:\", Height2)\n",
    "    Breadth = int(input(\"Breadth:\"))\n",
    "    print(\"Breadth:\", Breadth)\n",
    "    print(\"Perimeter formula: Height1 + Height2 + Breadth\")\n",
    "    perimeterOfTriangle = Height1 + Height2 + Breadth\n",
    "    print(\"Perimeter of Triangle:\", perimeterOfTriangle)\n",
    "\n",
    "    "
   ]
  },
  {
   "cell_type": "code",
   "execution_count": 41,
   "id": "b1d7af7c-0288-4029-ab1d-df9d762d201b",
   "metadata": {},
   "outputs": [
    {
     "name": "stdin",
     "output_type": "stream",
     "text": [
      "Height: 32\n"
     ]
    },
    {
     "name": "stdout",
     "output_type": "stream",
     "text": [
      "Height: 32\n"
     ]
    },
    {
     "name": "stdin",
     "output_type": "stream",
     "text": [
      "Breadth: 34\n"
     ]
    },
    {
     "name": "stdout",
     "output_type": "stream",
     "text": [
      "Breadth: 34\n",
      "Area formula: (Height * Breadth) / 2\n",
      "Area of Triangle: 544.0\n"
     ]
    },
    {
     "name": "stdin",
     "output_type": "stream",
     "text": [
      "Height1: 2\n"
     ]
    },
    {
     "name": "stdout",
     "output_type": "stream",
     "text": [
      "Height1: 2\n"
     ]
    },
    {
     "name": "stdin",
     "output_type": "stream",
     "text": [
      "Height2: 4\n"
     ]
    },
    {
     "name": "stdout",
     "output_type": "stream",
     "text": [
      "Height2: 4\n"
     ]
    },
    {
     "name": "stdin",
     "output_type": "stream",
     "text": [
      "Breadth: 4\n"
     ]
    },
    {
     "name": "stdout",
     "output_type": "stream",
     "text": [
      "Breadth: 4\n",
      "Perimeter formula: Height1 + Height2 + Breadth\n",
      "Perimeter of Triangle: 10\n"
     ]
    }
   ],
   "source": [
    "Triangle()"
   ]
  },
  {
   "cell_type": "code",
   "execution_count": null,
   "id": "07bcd705-22fd-414d-9f31-7a1112aa3263",
   "metadata": {},
   "outputs": [],
   "source": []
  }
 ],
 "metadata": {
  "kernelspec": {
   "display_name": "Python 3 (ipykernel)",
   "language": "python",
   "name": "python3"
  },
  "language_info": {
   "codemirror_mode": {
    "name": "ipython",
    "version": 3
   },
   "file_extension": ".py",
   "mimetype": "text/x-python",
   "name": "python",
   "nbconvert_exporter": "python",
   "pygments_lexer": "ipython3",
   "version": "3.12.4"
  }
 },
 "nbformat": 4,
 "nbformat_minor": 5
}
