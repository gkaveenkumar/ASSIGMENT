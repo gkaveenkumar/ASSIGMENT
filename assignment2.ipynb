{
 "cells": [
  {
   "cell_type": "code",
   "execution_count": 3,
   "id": "839afc2d-6d55-40f9-b6ce-4e8f42a0a1ac",
   "metadata": {},
   "outputs": [],
   "source": [
    "def Subfields():\n",
    "    A = (\n",
    "        \"Sub-fields in AI are:\",\n",
    "        \"Machine Learning\",\n",
    "        \"Neural Networks\",\n",
    "        \"Vision\",\n",
    "        \"Robotics.\",\n",
    "        \"Speech Processing\",\n",
    "        \"Natural Language Processing\"\n",
    "    )\n",
    "    \n",
    "    for i in A:\n",
    "        print(i)\n"
   ]
  },
  {
   "cell_type": "code",
   "execution_count": 5,
   "id": "9260a92b-638a-4c77-bafe-b3dedceb5561",
   "metadata": {},
   "outputs": [
    {
     "name": "stdout",
     "output_type": "stream",
     "text": [
      "Sub-fields in AI are:\n",
      "Machine Learning\n",
      "Neural Networks\n",
      "Vision\n",
      "Robotics.\n",
      "Speech Processing\n",
      "Natural Language Processing\n"
     ]
    }
   ],
   "source": [
    "Subfields()"
   ]
  },
  {
   "cell_type": "code",
   "execution_count": 7,
   "id": "58204534-c794-4131-b25a-449df25ffbb7",
   "metadata": {},
   "outputs": [],
   "source": [
    "def OddEven():\n",
    "    num1=int(input(\"enter the number:\"))\n",
    "    print(\"Enter the number:\",num1)\n",
    "    if(num1%2==0):\n",
    "        print(num1,\"is Even number\")\n",
    "    else:\n",
    "        print(num1,\"is Odd number\")\n",
    "        "
   ]
  },
  {
   "cell_type": "code",
   "execution_count": 9,
   "id": "be2b94a7-4ad8-4929-b551-063dc4bff338",
   "metadata": {},
   "outputs": [
    {
     "name": "stdin",
     "output_type": "stream",
     "text": [
      "enter the number: 54542\n"
     ]
    },
    {
     "name": "stdout",
     "output_type": "stream",
     "text": [
      "Enter the number: 54542\n",
      "54542 is Even number\n"
     ]
    }
   ],
   "source": [
    "OddEven()"
   ]
  },
  {
   "cell_type": "code",
   "execution_count": 11,
   "id": "fee31135-0964-45f4-aaa4-207aa9ae5628",
   "metadata": {},
   "outputs": [],
   "source": [
    "def Elegible():\n",
    "    Gender=(input(\"Your Gender:\"))\n",
    "    print(\"Your Gender:\",Gender)\n",
    "    Age=int(input(\"Your Age\"))\n",
    "    print(\"Your Age\",Age)\n",
    "    if(Gender==\"male\" and Age>=21):\n",
    "            print(\"ELIGIBLE\")\n",
    "    elif(Gender==\"female\"and Age>=18):\n",
    "        print(\"ELIGIBLE\")\n",
    "    else:\n",
    "        print(\"NOT ELIGIBLIE\")\n",
    "\n"
   ]
  },
  {
   "cell_type": "code",
   "execution_count": 13,
   "id": "035b359b-6754-4a1c-9715-a6510f750e38",
   "metadata": {},
   "outputs": [
    {
     "name": "stdin",
     "output_type": "stream",
     "text": [
      "Your Gender: male\n"
     ]
    },
    {
     "name": "stdout",
     "output_type": "stream",
     "text": [
      "Your Gender: male\n"
     ]
    },
    {
     "name": "stdin",
     "output_type": "stream",
     "text": [
      "Your Age 21\n"
     ]
    },
    {
     "name": "stdout",
     "output_type": "stream",
     "text": [
      "Your Age 21\n",
      "ELIGIBLE\n"
     ]
    }
   ],
   "source": [
    "Elegible()\n"
   ]
  },
  {
   "cell_type": "code",
   "execution_count": 15,
   "id": "7ef1cf19-f7cd-419f-8f2e-fcc6dbe93e3c",
   "metadata": {},
   "outputs": [],
   "source": [
    "def Percentage():\n",
    "    Subject1=int(input(\"Subject1\"))\n",
    "    print(\"Subject1\",Subject1)\n",
    "    Subject2=int(input(\"Subject2\"))\n",
    "    print(\"Subject2\",Subject2)\n",
    "    Subject3=int(input(\"Subject3\"))\n",
    "    print(\"Subject3\",Subject3)\n",
    "    Subject4=int(input(\"Subject4\"))\n",
    "    print(\"Subject4\",Subject4)\n",
    "    Subject5=int(input(\"Subject5\"))\n",
    "    print(\"Subject5\",Subject5)\n",
    "    TOtal=(Subject1+Subject2+Subject3+Subject4+Subject5)\n",
    "    print(\"Total:\",TOtal)\n",
    "    percentage=TOtal/5\n",
    "    print(\"percentage:\",percentage)\n"
   ]
  },
  {
   "cell_type": "code",
   "execution_count": 17,
   "id": "7d8db9ea-7455-4b0f-ac8b-803c9178aa85",
   "metadata": {},
   "outputs": [
    {
     "name": "stdin",
     "output_type": "stream",
     "text": [
      "Subject1 98\n"
     ]
    },
    {
     "name": "stdout",
     "output_type": "stream",
     "text": [
      "Subject1 98\n"
     ]
    },
    {
     "name": "stdin",
     "output_type": "stream",
     "text": [
      "Subject2 87\n"
     ]
    },
    {
     "name": "stdout",
     "output_type": "stream",
     "text": [
      "Subject2 87\n"
     ]
    },
    {
     "name": "stdin",
     "output_type": "stream",
     "text": [
      "Subject3 95\n"
     ]
    },
    {
     "name": "stdout",
     "output_type": "stream",
     "text": [
      "Subject3 95\n"
     ]
    },
    {
     "name": "stdin",
     "output_type": "stream",
     "text": [
      "Subject4 95\n"
     ]
    },
    {
     "name": "stdout",
     "output_type": "stream",
     "text": [
      "Subject4 95\n"
     ]
    },
    {
     "name": "stdin",
     "output_type": "stream",
     "text": [
      "Subject5 93\n"
     ]
    },
    {
     "name": "stdout",
     "output_type": "stream",
     "text": [
      "Subject5 93\n",
      "Total: 468\n",
      "percentage: 93.6\n"
     ]
    }
   ],
   "source": [
    "Percentage()"
   ]
  },
  {
   "cell_type": "code",
   "execution_count": 19,
   "id": "0d6f7d52-ce25-4c74-8380-02d6a5443d61",
   "metadata": {},
   "outputs": [],
   "source": [
    "def Triangle():\n",
    "    Height = int(input(\"Height:\"))\n",
    "    print(\"Height:\", Height)\n",
    "    Breadth = int(input(\"Breadth:\"))\n",
    "    print(\"Breadth:\", Breadth)\n",
    "    print(\"Area formula: (Height * Breadth) / 2\")\n",
    "    AreaOfTriangle = (Height * Breadth) / 2\n",
    "    print(\"Area of Triangle:\", AreaOfTriangle)\n",
    "    Height1 = int(input(\"Height1:\"))\n",
    "    print(\"Height1:\", Height1)\n",
    "    Height2 = int(input(\"Height2:\"))\n",
    "    print(\"Height2:\", Height2)\n",
    "    Breadth = int(input(\"Breadth:\"))\n",
    "    print(\"Breadth:\", Breadth)\n",
    "    print(\"Perimeter formula: Height1 + Height2 + Breadth\")\n",
    "    perimeterOfTriangle = Height1 + Height2 + Breadth\n",
    "    print(\"Perimeter of Triangle:\", perimeterOfTriangle)\n",
    "\n",
    "    "
   ]
  },
  {
   "cell_type": "code",
   "execution_count": 21,
   "id": "61bd1af5-2701-45d8-91c4-58042225bd65",
   "metadata": {},
   "outputs": [
    {
     "name": "stdin",
     "output_type": "stream",
     "text": [
      "Height: 32\n"
     ]
    },
    {
     "name": "stdout",
     "output_type": "stream",
     "text": [
      "Height: 32\n"
     ]
    },
    {
     "name": "stdin",
     "output_type": "stream",
     "text": [
      "Breadth: 34\n"
     ]
    },
    {
     "name": "stdout",
     "output_type": "stream",
     "text": [
      "Breadth: 34\n",
      "Area formula: (Height * Breadth) / 2\n",
      "Area of Triangle: 544.0\n"
     ]
    },
    {
     "name": "stdin",
     "output_type": "stream",
     "text": [
      "Height1: 2\n"
     ]
    },
    {
     "name": "stdout",
     "output_type": "stream",
     "text": [
      "Height1: 2\n"
     ]
    },
    {
     "name": "stdin",
     "output_type": "stream",
     "text": [
      "Height2: 4\n"
     ]
    },
    {
     "name": "stdout",
     "output_type": "stream",
     "text": [
      "Height2: 4\n"
     ]
    },
    {
     "name": "stdin",
     "output_type": "stream",
     "text": [
      "Breadth: 4\n"
     ]
    },
    {
     "name": "stdout",
     "output_type": "stream",
     "text": [
      "Breadth: 4\n",
      "Perimeter formula: Height1 + Height2 + Breadth\n",
      "Perimeter of Triangle: 10\n"
     ]
    }
   ],
   "source": [
    "Triangle()"
   ]
  },
  {
   "cell_type": "code",
   "execution_count": null,
   "id": "2ea0f571-9768-4b3b-a234-5e3a7ba2fa84",
   "metadata": {},
   "outputs": [],
   "source": []
  }
 ],
 "metadata": {
  "kernelspec": {
   "display_name": "Python 3 (ipykernel)",
   "language": "python",
   "name": "python3"
  },
  "language_info": {
   "codemirror_mode": {
    "name": "ipython",
    "version": 3
   },
   "file_extension": ".py",
   "mimetype": "text/x-python",
   "name": "python",
   "nbconvert_exporter": "python",
   "pygments_lexer": "ipython3",
   "version": "3.12.4"
  }
 },
 "nbformat": 4,
 "nbformat_minor": 5
}
